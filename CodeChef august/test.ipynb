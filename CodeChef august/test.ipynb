{
 "metadata": {
  "language_info": {
   "codemirror_mode": {
    "name": "ipython",
    "version": 3
   },
   "file_extension": ".py",
   "mimetype": "text/x-python",
   "name": "python",
   "nbconvert_exporter": "python",
   "pygments_lexer": "ipython3",
   "version": 3
  },
  "orig_nbformat": 2,
  "kernelspec": {
   "name": "python_defaultSpec_1597132139234",
   "display_name": "Python 3.8.2 64-bit"
  }
 },
 "nbformat": 4,
 "nbformat_minor": 2,
 "cells": [
  {
   "cell_type": "code",
   "execution_count": 1,
   "metadata": {},
   "outputs": [],
   "source": [
    "from SmallestKMP import main\n",
    "import random\n"
   ]
  },
  {
   "cell_type": "code",
   "execution_count": 6,
   "metadata": {},
   "outputs": [
    {
     "output_type": "execute_result",
     "data": {
      "text/plain": "'kkkmi'"
     },
     "metadata": {},
     "execution_count": 6
    }
   ],
   "source": [
    "main('kkkmi','kmi')"
   ]
  },
  {
   "cell_type": "code",
   "execution_count": 8,
   "metadata": {},
   "outputs": [],
   "source": [
    "chars = [ chr(i) for i in range(97,123)]"
   ]
  },
  {
   "cell_type": "code",
   "execution_count": 40,
   "metadata": {
    "tags": []
   },
   "outputs": [
    {
     "output_type": "stream",
     "name": "stdout",
     "text": "string = tgnezcswbyr\npattern =  s\n sorted =  bcegnrstwyz\n----------\nstring = svjtflhymnoqpnqhgfpqgbwtdgtrlgajqzckc\npattern =  gtrlg\n sorted =  abccdffgggtrlghhjjklmnnoppqqqqsttvwyz\n----------\nstring = uxkxoviazhmvlnrymcssyibtxzmxmjt\npattern =  xkx\n sorted =  abchiijlmmmmnorssttuvvxkxxxyyzz\n----------\nstring = tacpwmillzzyj\npattern =  lzzy\n sorted =  acijllzzymptw\n----------\nstring = mdyplvbmyzmhwp\npattern =  plvbmyzmh\n sorted =  dmplvbmyzmhpwy\n----------\nstring = zcveakwbhvdwmrww\npattern =  zcveakwbhvd\n sorted =  mrwwwzcveakwbhvd\n----------\nstring = lcndtvfrdqgycwyqhspyrgklvqhkaihmyvew\npattern =  ndtvfrdqgycwyqhspyrgk\n sorted =  acehhikllmndtvfrdqgycwyqhspyrgkqvvwy\n----------\nstring = odymetkshqhrcovvwrztgfpzbciimgojbi\npattern =  metkshqhrcovvwrzt\n sorted =  bbcdfggiiijmetkshqhrcovvwrztmoopyz\n----------\nstring = xokldoudovbfwdlwxvaje\npattern =  vbfwdl\n sorted =  addejklooouvbfwdlvwxx\n----------\nstring = ngsetqtmvqguvxurcqafkvnlhszqsthrnb\npattern =  etqtmvqguvxurcqafkvnlhszqs\n sorted =  betqtmvqguvxurcqafkvnlhszqsghnnrst\n----------\n"
    }
   ],
   "source": [
    "times = 10\n",
    "for _ in range(times):\n",
    "    N = random.randint(10,40)\n",
    "    string = [ random.choice(chars) for _ in range(N)]\n",
    "    split = random.randint(0,N -1)\n",
    "    start = random.randint( 0,split )\n",
    "    end = random.randint( split,N)\n",
    "    pattern = string[start:end]\n",
    "    s = ''.join( string)\n",
    "    pattern = ''.join( pattern)\n",
    "    print( 'string =',s)\n",
    "    print( 'pattern = ',pattern)\n",
    "    print(' sorted = ',main(s, pattern))\n",
    "    print('-'*10)"
   ]
  },
  {
   "cell_type": "code",
   "execution_count": 17,
   "metadata": {},
   "outputs": [],
   "source": [
    "# Solved string Smallest KMP"
   ]
  },
  {
   "cell_type": "code",
   "execution_count": null,
   "metadata": {},
   "outputs": [],
   "source": [
    "# time for Chef wedding"
   ]
  },
  {
   "cell_type": "code",
   "execution_count": 7,
   "metadata": {},
   "outputs": [],
   "source": [
    "from ChefAndWedding import main as wed "
   ]
  },
  {
   "cell_type": "code",
   "execution_count": 12,
   "metadata": {},
   "outputs": [],
   "source": [
    "k = 14\n",
    "arr = [1,4,2,4,4]"
   ]
  },
  {
   "cell_type": "code",
   "execution_count": 10,
   "metadata": {},
   "outputs": [],
   "source": [
    "k = 1\n",
    "arr = [5,1,3,3,3]"
   ]
  },
  {
   "cell_type": "code",
   "execution_count": 14,
   "metadata": {},
   "outputs": [],
   "source": [
    "k= 2\n",
    "arr = [3,5,4,5,1]"
   ]
  },
  {
   "cell_type": "code",
   "execution_count": 15,
   "metadata": {
    "tags": []
   },
   "outputs": [
    {
     "output_type": "stream",
     "name": "stdout",
     "text": "[[3, 5, 4], [5, 1]]\n4\n"
    }
   ],
   "source": [
    "wed(arr,k)"
   ]
  },
  {
   "cell_type": "code",
   "execution_count": null,
   "metadata": {},
   "outputs": [],
   "source": [
    "def wed(Relative, K):\n",
    "    Seperated = []\n",
    "        tmp_array = []\n",
    "        for r in Relative:\n",
    "            if r not in tmp_array:\n",
    "                tmp_array.append(r)\n",
    "            else:\n",
    "                Seperated.append(tmp_array)\n",
    "                tmp_array = [r]\n",
    "        if tmp_array:\n",
    "            Seperated.append(tmp_array)\n",
    "        final_cost = [K]\n",
    "        if len(Seperated) > 1:\n",
    "            i = 1\n",
    "            while i < len(Seperated):\n",
    "                Count_dict = {}\n",
    "                for r in Seperated[i - 1] + Seperated[i]:\n",
    "                    if r not in Count_dict:\n",
    "                        Count_dict[r] = 1\n",
    "                    else:\n",
    "                        Count_dict[r] += 1\n",
    "                fights = sum(\n",
    "                    [r for r in Count_dict.values() if r > 1])\n",
    "                if K + fights < 2*K:\n",
    "                    Seperated[i - 1] = Seperated[i - 1] + Seperated[i]\n",
    "                    Seperated.pop(i)\n",
    "                    final_cost.pop()\n",
    "                    final_cost.append(K + fights)\n",
    "                else:\n",
    "                    final_cost.append(K)\n",
    "                    i += 1\n",
    "        return Seperated, sum( final_cost)\n"
   ]
  }
 ]
}