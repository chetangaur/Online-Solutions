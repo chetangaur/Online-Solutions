{
 "metadata": {
  "language_info": {
   "codemirror_mode": {
    "name": "ipython",
    "version": 3
   },
   "file_extension": ".py",
   "mimetype": "text/x-python",
   "name": "python",
   "nbconvert_exporter": "python",
   "pygments_lexer": "ipython3",
   "version": "3.8.2-final"
  },
  "orig_nbformat": 2,
  "kernelspec": {
   "name": "python_defaultSpec_1597496299360",
   "display_name": "Python 3.8.2 64-bit"
  }
 },
 "nbformat": 4,
 "nbformat_minor": 2,
 "cells": [
  {
   "cell_type": "code",
   "execution_count": 20,
   "metadata": {},
   "outputs": [],
   "source": [
    "import random\n"
   ]
  },
  {
   "cell_type": "code",
   "execution_count": null,
   "metadata": {},
   "outputs": [],
   "source": [
    "from SmallestKMP import main\n"
   ]
  },
  {
   "cell_type": "code",
   "execution_count": 6,
   "metadata": {},
   "outputs": [
    {
     "output_type": "execute_result",
     "data": {
      "text/plain": "'kkkmi'"
     },
     "metadata": {},
     "execution_count": 6
    }
   ],
   "source": [
    "main('kkkmi','kmi')"
   ]
  },
  {
   "cell_type": "code",
   "execution_count": 8,
   "metadata": {},
   "outputs": [],
   "source": [
    "chars = [ chr(i) for i in range(97,123)]"
   ]
  },
  {
   "cell_type": "code",
   "execution_count": null,
   "metadata": {
    "tags": []
   },
   "outputs": [],
   "source": [
    "times = 10\n",
    "for _ in range(times):\n",
    "    N = random.randint(10,40)\n",
    "    string = [ random.choice(chars) for _ in range(N)]\n",
    "    split = random.randint(0,N -1)\n",
    "    start = random.randint( 0,split )\n",
    "    end = random.randint( split,N)\n",
    "    pattern = string[start:end]\n",
    "    s = ''.join( string)\n",
    "    pattern = ''.join( pattern)\n",
    "    print( 'string =',s)\n",
    "    print( 'pattern = ',pattern)\n",
    "    print(' sorted = ',main(s, pattern))\n",
    "    print('-'*10)"
   ]
  },
  {
   "cell_type": "code",
   "execution_count": 1,
   "metadata": {},
   "outputs": [],
   "source": [
    "# Solved string Smallest KMP"
   ]
  },
  {
   "cell_type": "code",
   "execution_count": 1,
   "metadata": {},
   "outputs": [],
   "source": [
    "# time for Chef's wedding"
   ]
  },
  {
   "cell_type": "code",
   "execution_count": 28,
   "metadata": {},
   "outputs": [],
   "source": [
    "from random import randint\n",
    "from ChefAndWedding import getEff\n",
    "from ChefAndWedding import getEff2\n",
    "import sys\n",
    "sys.setrecursionlimit(5000)\n",
    "# from ChefAndWedding import getEffP\n",
    "# from ChefAndWedding import GaurntEff\n",
    "# from ChefAndWedding import GaurntEffP"
   ]
  },
  {
   "cell_type": "code",
   "execution_count": 29,
   "metadata": {
    "tags": []
   },
   "outputs": [
    {
     "output_type": "stream",
     "name": "stdout",
     "text": "3\n17\n7\n"
    }
   ],
   "source": [
    "print( getEff([5,1,3,3,3],1))\n",
    "print( getEff([1,4,2,4,4],14))\n",
    "print( getEff([3,5,4,5,1,1,1],2))"
   ]
  },
  {
   "cell_type": "code",
   "execution_count": 30,
   "metadata": {
    "tags": []
   },
   "outputs": [],
   "source": [
    "for _ in range(100):\n",
    "    N = randint(1, 30)\n",
    "    Relative = [randint(1, 100) for _ in range(N)]\n",
    "    K =randint(1, 100)\n",
    "    if getEff( Relative, K) != getEff2( Relative, K):\n",
    "        print( Relative, K)\n",
    "        break\n",
    "    else:\n",
    "        print('.', end=' ')"
   ]
  },
  {
   "cell_type": "code",
   "execution_count": 4,
   "metadata": {
    "tags": []
   },
   "outputs": [
    {
     "output_type": "stream",
     "name": "stdout",
     "text": "{(0, 25): 22, (26, 89): 47, (0, 24): 22, (25, 89): 47, (0, 23): 22, (24, 89): 47, (0, 89): 69}\n69\n"
    }
   ],
   "source": [
    "print( getEff( Relative,K))"
   ]
  },
  {
   "cell_type": "code",
   "execution_count": 5,
   "metadata": {
    "tags": []
   },
   "outputs": [
    {
     "output_type": "stream",
     "name": "stdout",
     "text": "{(0, 48): 39, (49, 85): 30, (0, 44): 35, (45, 85): 34, (0, 43): 35, (44, 85): 34, (0, 42): 35, (43, 85): 34, (0, 21): 22, (22, 85): 47, (0, 20): 22, (21, 85): 47, (0, 19): 22, (20, 85): 47, (0, 85): 69}\n{(0, 22): 22, (23, 86): 47, (0, 21): 22, (22, 86): 47, (0, 20): 22, (21, 86): 47, (0, 86): 69}\n{(0, 23): 22, (24, 87): 47, (0, 22): 22, (23, 87): 47, (0, 21): 22, (22, 87): 47, (0, 87): 69}\n{(0, 24): 22, (25, 88): 47, (0, 23): 22, (24, 88): 47, (0, 22): 22, (23, 88): 47, (0, 88): 69}\n{(0, 25): 22, (26, 89): 47, (0, 24): 22, (25, 89): 47, (0, 23): 22, (24, 89): 47, (0, 89): 69}\n89\n"
    }
   ],
   "source": [
    "print( getEff2( Relative,K))\n"
   ]
  },
  {
   "cell_type": "code",
   "execution_count": null,
   "metadata": {},
   "outputs": [],
   "source": []
  }
 ]
}