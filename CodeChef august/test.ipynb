{
 "metadata": {
  "language_info": {
   "codemirror_mode": {
    "name": "ipython",
    "version": 3
   },
   "file_extension": ".py",
   "mimetype": "text/x-python",
   "name": "python",
   "nbconvert_exporter": "python",
   "pygments_lexer": "ipython3",
   "version": "3.8.2-final"
  },
  "orig_nbformat": 2,
  "kernelspec": {
   "name": "python_defaultSpec_1597330110622",
   "display_name": "Python 3.8.2 64-bit"
  }
 },
 "nbformat": 4,
 "nbformat_minor": 2,
 "cells": [
  {
   "cell_type": "code",
   "execution_count": 20,
   "metadata": {},
   "outputs": [],
   "source": [
    "import random\n"
   ]
  },
  {
   "cell_type": "code",
   "execution_count": null,
   "metadata": {},
   "outputs": [],
   "source": [
    "from SmallestKMP import main\n"
   ]
  },
  {
   "cell_type": "code",
   "execution_count": 6,
   "metadata": {},
   "outputs": [
    {
     "output_type": "execute_result",
     "data": {
      "text/plain": "'kkkmi'"
     },
     "metadata": {},
     "execution_count": 6
    }
   ],
   "source": [
    "main('kkkmi','kmi')"
   ]
  },
  {
   "cell_type": "code",
   "execution_count": 8,
   "metadata": {},
   "outputs": [],
   "source": [
    "chars = [ chr(i) for i in range(97,123)]"
   ]
  },
  {
   "cell_type": "code",
   "execution_count": 40,
   "metadata": {
    "tags": []
   },
   "outputs": [
    {
     "output_type": "stream",
     "name": "stdout",
     "text": "string = tgnezcswbyr\npattern =  s\n sorted =  bcegnrstwyz\n----------\nstring = svjtflhymnoqpnqhgfpqgbwtdgtrlgajqzckc\npattern =  gtrlg\n sorted =  abccdffgggtrlghhjjklmnnoppqqqqsttvwyz\n----------\nstring = uxkxoviazhmvlnrymcssyibtxzmxmjt\npattern =  xkx\n sorted =  abchiijlmmmmnorssttuvvxkxxxyyzz\n----------\nstring = tacpwmillzzyj\npattern =  lzzy\n sorted =  acijllzzymptw\n----------\nstring = mdyplvbmyzmhwp\npattern =  plvbmyzmh\n sorted =  dmplvbmyzmhpwy\n----------\nstring = zcveakwbhvdwmrww\npattern =  zcveakwbhvd\n sorted =  mrwwwzcveakwbhvd\n----------\nstring = lcndtvfrdqgycwyqhspyrgklvqhkaihmyvew\npattern =  ndtvfrdqgycwyqhspyrgk\n sorted =  acehhikllmndtvfrdqgycwyqhspyrgkqvvwy\n----------\nstring = odymetkshqhrcovvwrztgfpzbciimgojbi\npattern =  metkshqhrcovvwrzt\n sorted =  bbcdfggiiijmetkshqhrcovvwrztmoopyz\n----------\nstring = xokldoudovbfwdlwxvaje\npattern =  vbfwdl\n sorted =  addejklooouvbfwdlvwxx\n----------\nstring = ngsetqtmvqguvxurcqafkvnlhszqsthrnb\npattern =  etqtmvqguvxurcqafkvnlhszqs\n sorted =  betqtmvqguvxurcqafkvnlhszqsghnnrst\n----------\n"
    }
   ],
   "source": [
    "times = 10\n",
    "for _ in range(times):\n",
    "    N = random.randint(10,40)\n",
    "    string = [ random.choice(chars) for _ in range(N)]\n",
    "    split = random.randint(0,N -1)\n",
    "    start = random.randint( 0,split )\n",
    "    end = random.randint( split,N)\n",
    "    pattern = string[start:end]\n",
    "    s = ''.join( string)\n",
    "    pattern = ''.join( pattern)\n",
    "    print( 'string =',s)\n",
    "    print( 'pattern = ',pattern)\n",
    "    print(' sorted = ',main(s, pattern))\n",
    "    print('-'*10)"
   ]
  },
  {
   "cell_type": "code",
   "execution_count": 1,
   "metadata": {},
   "outputs": [],
   "source": [
    "# Solved string Smallest KMP"
   ]
  },
  {
   "cell_type": "code",
   "execution_count": 2,
   "metadata": {},
   "outputs": [],
   "source": [
    "# time for Chef's wedding"
   ]
  },
  {
   "cell_type": "code",
   "execution_count": 3,
   "metadata": {},
   "outputs": [],
   "source": [
    "from random import randint"
   ]
  },
  {
   "cell_type": "code",
   "execution_count": 4,
   "metadata": {},
   "outputs": [],
   "source": [
    "from ChefAndWedding import getEff"
   ]
  },
  {
   "cell_type": "code",
   "execution_count": 12,
   "metadata": {
    "tags": []
   },
   "outputs": [
    {
     "output_type": "stream",
     "name": "stdout",
     "text": "0\n1\n2\n3\n4\n5\n6\n7\n==========\n[{41: 1, 55: 1}, {41: 1, 15: 1, 55: 1, 70: 1, 38: 1}]\n[{41: 2, 55: 2, 15: 1, 70: 1, 38: 1}]\n----------\n[{41: 1, 55: 1}, {41: 1, 15: 1, 55: 1, 70: 1, 38: 1}]\n==========\n Both\n8\n9\n"
    }
   ],
   "source": [
    "for i in range( 10):\n",
    "    N = randint(2,10)\n",
    "    Relative = [ randint(1,100) for _ in range(N)]\n",
    "    print( Relative)\n",
    "    K = randint(1, 10)\n",
    "    getEff( Relative, K)"
   ]
  },
  {
   "cell_type": "code",
   "execution_count": null,
   "metadata": {},
   "outputs": [],
   "source": []
  }
 ]
}