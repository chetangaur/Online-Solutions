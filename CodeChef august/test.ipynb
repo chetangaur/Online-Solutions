{
 "metadata": {
  "language_info": {
   "codemirror_mode": {
    "name": "ipython",
    "version": 3
   },
   "file_extension": ".py",
   "mimetype": "text/x-python",
   "name": "python",
   "nbconvert_exporter": "python",
   "pygments_lexer": "ipython3",
   "version": "3.8.2-final"
  },
  "orig_nbformat": 2,
  "kernelspec": {
   "name": "python_defaultSpec_1597579801581",
   "display_name": "Python 3.8.2 64-bit"
  }
 },
 "nbformat": 4,
 "nbformat_minor": 2,
 "cells": [
  {
   "cell_type": "code",
   "execution_count": 20,
   "metadata": {},
   "outputs": [],
   "source": [
    "import random\n"
   ]
  },
  {
   "cell_type": "code",
   "execution_count": null,
   "metadata": {},
   "outputs": [],
   "source": [
    "from SmallestKMP import main\n"
   ]
  },
  {
   "cell_type": "code",
   "execution_count": 6,
   "metadata": {},
   "outputs": [
    {
     "output_type": "execute_result",
     "data": {
      "text/plain": "'kkkmi'"
     },
     "metadata": {},
     "execution_count": 6
    }
   ],
   "source": [
    "main('kkkmi','kmi')"
   ]
  },
  {
   "cell_type": "code",
   "execution_count": 8,
   "metadata": {},
   "outputs": [],
   "source": [
    "chars = [ chr(i) for i in range(97,123)]"
   ]
  },
  {
   "cell_type": "code",
   "execution_count": null,
   "metadata": {
    "tags": []
   },
   "outputs": [],
   "source": [
    "times = 10\n",
    "for _ in range(times):\n",
    "    N = random.randint(10,40)\n",
    "    string = [ random.choice(chars) for _ in range(N)]\n",
    "    split = random.randint(0,N -1)\n",
    "    start = random.randint( 0,split )\n",
    "    end = random.randint( split,N)\n",
    "    pattern = string[start:end]\n",
    "    s = ''.join( string)\n",
    "    pattern = ''.join( pattern)\n",
    "    print( 'string =',s)\n",
    "    print( 'pattern = ',pattern)\n",
    "    print(' sorted = ',main(s, pattern))\n",
    "    print('-'*10)"
   ]
  },
  {
   "cell_type": "code",
   "execution_count": 1,
   "metadata": {},
   "outputs": [],
   "source": [
    "# Solved string Smallest KMP"
   ]
  },
  {
   "cell_type": "code",
   "execution_count": 1,
   "metadata": {},
   "outputs": [],
   "source": [
    "# time for Chef's wedding"
   ]
  },
  {
   "cell_type": "code",
   "execution_count": 1,
   "metadata": {},
   "outputs": [],
   "source": [
    "from random import randint\n",
    "from ChefAndWedding import getEff\n",
    "from ChefAndWedding import getEff2\n",
    "from ChefAndWedding import getEffP\n",
    "import sys\n",
    "sys.setrecursionlimit(5000)\n",
    "# from ChefAndWedding import getEffP\n",
    "# from ChefAndWedding import GaurntEff\n",
    "# from ChefAndWedding import GaurntEffP"
   ]
  },
  {
   "cell_type": "code",
   "execution_count": 184,
   "metadata": {},
   "outputs": [],
   "source": [
    "def getEff2(Relative, K):\n",
    "    if K == 1:\n",
    "        Final = []\n",
    "        tmp = {}\n",
    "        for r in Relative:\n",
    "            if r not in tmp:\n",
    "                tmp[r] = 1\n",
    "            else:\n",
    "                Final.append(tmp)\n",
    "                tmp = {\n",
    "                    r: 1\n",
    "                }\n",
    "        if tmp:\n",
    "            Final.append(tmp)\n",
    "        Answer = len(Final)\n",
    "    return Answer\n",
    "\n",
    "def getEff2P(Relative, K):\n",
    "    if K == 1:\n",
    "        Final = []\n",
    "        tmp = []\n",
    "        for r in Relative:\n",
    "            if r not in tmp:\n",
    "                tmp.append(r)\n",
    "            else:\n",
    "                Final.append(tmp)\n",
    "                tmp = [r]\n",
    "        if tmp:\n",
    "            Final.append(tmp)\n",
    "        Answer = len(Final)\n",
    "    print( Final)\n",
    "    return Answer\n",
    "\n",
    "def printFight(Array):\n",
    "    total_fight = 0\n",
    "    left_dict = {}\n",
    "    for rel in Relative:\n",
    "        if rel not in left_dict:\n",
    "            left_dict[rel] = 1\n",
    "        else:\n",
    "            left_dict[rel] += 1\n",
    "            if left_dict[rel] == 2:\n",
    "                total_fight += 2\n",
    "            else:\n",
    "                total_fight += 1\n",
    "    right = {}\n",
    "    right_fight = 0\n",
    "\n",
    "    for index in range( len( Relative) -1 , -1, -1):\n",
    "        rel = Relative[index]\n",
    "        if rel not in right:\n",
    "            right[rel] = 1\n",
    "        else:\n",
    "            right[rel] += 1\n",
    "            if right[rel] == 2:\n",
    "                right_fight += 2\n",
    "            else:\n",
    "                right_fight += 1\n",
    "        if left_dict[rel] == 2:\n",
    "            total_fight -= 2\n",
    "        elif left_dict[rel] > 2:\n",
    "            total_fight -= 1\n",
    "        left_dict[rel] -= 1\n",
    "        print( total_fight, right_fight, (total_fight + right_fight))"
   ]
  },
  {
   "cell_type": "code",
   "execution_count": 188,
   "metadata": {},
   "outputs": [],
   "source": [
    "def getFight(Relative, Start, end):\n",
    "    fight = {}\n",
    "    for rel in Relative:\n",
    "        if rel not in fight:\n",
    "            fight[rel] = 1\n",
    "        else:\n",
    "            fight[rel] += 1\n",
    "    return sum( [f for f in fight.values() if f > 1])\n",
    "\n",
    "def getEff(Relative, K):\n",
    "    Answers = {}\n",
    "    Indexes = {}\n",
    "    Stacks = [(0, len(Relative))]\n",
    "    while Stacks:\n",
    "        SE = Stacks[-1]\n",
    "        Founded = True\n",
    "        if SE not in Answers:\n",
    "            Founded = False\n",
    "            start = SE[0]\n",
    "            end = SE[1]\n",
    "            LEFT = {}\n",
    "            LEFTF = 0\n",
    "            for index in range(start, end):\n",
    "                Rel = Relative[index]\n",
    "                if Rel not in LEFT:\n",
    "                    LEFT[Rel] = 1\n",
    "                else:\n",
    "                    LEFT[Rel] += 1\n",
    "                    if LEFT[Rel] == 2:\n",
    "                        LEFTF += 2\n",
    "                    else:\n",
    "                        LEFTF += 1\n",
    "            if LEFTF < K:\n",
    "                Answers[SE] = K + LEFTF\n",
    "                Founded = True\n",
    "                # Indexes[SE] = [end]\n",
    "            else:\n",
    "                if SE not in Indexes:\n",
    "                    RIGHT = {}\n",
    "                    RIGHTF = 0\n",
    "                    DIS = []\n",
    "                    Min_fight = LEFTF\n",
    "                    for index in range(end - 1, start - 1, -1):\n",
    "                        Rel = Relative[index]\n",
    "                        if Rel not in RIGHT:\n",
    "                            RIGHT[Rel] = 1\n",
    "                        else:\n",
    "                            RIGHT[Rel] += 1\n",
    "                            if RIGHT[Rel] == 2:\n",
    "                                RIGHTF += 2\n",
    "                            else:\n",
    "                                RIGHTF += 1\n",
    "\n",
    "                        if LEFT[Rel] > 2:\n",
    "                            LEFTF -= 1\n",
    "                        elif LEFT[Rel] == 2:\n",
    "                            LEFTF -= 2\n",
    "                        LEFT[Rel] -= 1\n",
    "\n",
    "                        if LEFTF + RIGHTF < Min_fight:\n",
    "                            DIS = [index]\n",
    "                            Min_fight = LEFTF + RIGHTF\n",
    "                        elif LEFTF + RIGHTF == Min_fight:\n",
    "                            DIS.append(index)\n",
    "                    Indexes[SE] = DIS\n",
    "                DIS = Indexes[SE]\n",
    "\n",
    "                for index in DIS:\n",
    "                    Both_present = True\n",
    "                    SE1 = (start, index)\n",
    "                    SE2 = (index , end)\n",
    "                    if SE1 not in Answers:\n",
    "                        Stacks.append(SE1)\n",
    "                        Both_present = False\n",
    "                    if Both_present and SE2 not in Answers:\n",
    "                        Stacks.append(SE2)\n",
    "                        Both_present = False\n",
    "                    if not Both_present:\n",
    "                        break\n",
    "                if Both_present:\n",
    "                    min_value = float('inf')\n",
    "                    for index in DIS:\n",
    "                        SE1 = (start, index)\n",
    "                        SE2 = (index , end)\n",
    "                        # spliting into 3 parts\n",
    "                        if SE1 in Indexes and SE2 in Indexes:\n",
    "                            for K1 in Indexes[SE1]:\n",
    "                                for K2 in Indexes[SE2]:\n",
    "                                    Split3 = Answers[(start, K1)]\n",
    "                                    Split3 += Answers[(K2, end)]\n",
    "                                    Split3 += K + getFight( Relative, K1, K2)\n",
    "                                    if  Split3 < min_value:\n",
    "                                        min_value = Split3\n",
    "                        if Answers[SE1] + Answers[SE2] < min_value:\n",
    "                            min_value = Answers[SE1] + Answers[SE2]\n",
    "                    Answers[SE] = min_value\n",
    "                    Founded = True\n",
    "                else:\n",
    "                    Founded = False\n",
    "        if Founded:\n",
    "            Stacks.pop()\n",
    "    Answer = Answers[SE]\n",
    "    return Answer\n",
    "\n",
    "\n",
    "\n",
    "def getEffP(Relative, K):\n",
    "    Answers = {}\n",
    "    Indexes = {}\n",
    "    Stacks = [(0, len(Relative))]\n",
    "    while Stacks:\n",
    "        SE = Stacks[-1]\n",
    "        Founded = True\n",
    "        if SE not in Answers:\n",
    "            Founded = False\n",
    "            start = SE[0]\n",
    "            end = SE[1]\n",
    "            LEFT = {}\n",
    "            LEFTF = 0\n",
    "            for index in range(start, end):\n",
    "                Rel = Relative[index]\n",
    "                if Rel not in LEFT:\n",
    "                    LEFT[Rel] = 1\n",
    "                else:\n",
    "                    LEFT[Rel] += 1\n",
    "                    if LEFT[Rel] == 2:\n",
    "                        LEFTF += 2\n",
    "                    else:\n",
    "                        LEFTF += 1\n",
    "            if LEFTF < 2*K:\n",
    "                Answers[SE] = K + LEFTF\n",
    "                Founded = True\n",
    "                # Indexes[SE] = [end]\n",
    "            else:\n",
    "                if SE not in Indexes:\n",
    "                    RIGHT = {}\n",
    "                    RIGHTF = 0\n",
    "                    DIS = []\n",
    "                    Min_fight = LEFTF\n",
    "                    for index in range(end - 1, start - 1, -1):\n",
    "                        Rel = Relative[index]\n",
    "                        if Rel not in RIGHT:\n",
    "                            RIGHT[Rel] = 1\n",
    "                        else:\n",
    "                            RIGHT[Rel] += 1\n",
    "                            if RIGHT[Rel] == 2:\n",
    "                                RIGHTF += 2\n",
    "                            else:\n",
    "                                RIGHTF += 1\n",
    "\n",
    "                        if LEFT[Rel] > 2:\n",
    "                            LEFTF -= 1\n",
    "                        elif LEFT[Rel] == 2:\n",
    "                            LEFTF -= 2\n",
    "                        LEFT[Rel] -= 1\n",
    "\n",
    "                        if LEFTF + RIGHTF < Min_fight:\n",
    "                            DIS = [index]\n",
    "                            Min_fight = LEFTF + RIGHTF\n",
    "                        elif LEFTF + RIGHTF == Min_fight:\n",
    "                            DIS.append(index)\n",
    "                    Indexes[SE] = DIS\n",
    "                DIS = Indexes[SE]\n",
    "\n",
    "                for index in DIS:\n",
    "                    Both_present = True\n",
    "                    SE1 = (start, index)\n",
    "                    SE2 = (index , end)\n",
    "                    if SE1 not in Answers:\n",
    "                        Stacks.append(SE1)\n",
    "                        Both_present = False\n",
    "                    if Both_present and SE2 not in Answers:\n",
    "                        Stacks.append(SE2)\n",
    "                        Both_present = False\n",
    "                    if not Both_present:\n",
    "                        break\n",
    "                if Both_present:\n",
    "                    min_value = float('inf')\n",
    "                    for index in DIS:\n",
    "                        SE1 = (start, index)\n",
    "                        SE2 = (index , end)\n",
    "                        if SE1  in Indexes and SE2 in Indexes:\n",
    "                            print( SE1, SE2)\n",
    "                            for K1 in Indexes[SE1]:\n",
    "                                for K2 in Indexes[SE2]:\n",
    "                                    Split3B = Answers[(start, K1)]\n",
    "                                    Split3R += Answers[(K2, end)]\n",
    "                                    Split3M = K + getFight( Relative, K1, K2)\n",
    "                                    print( K1, K2, Split3B, Split3M, Split3R)\n",
    "                                    if  Split3 < min_value:\n",
    "                                        min_value = Split3\n",
    "                        if Answers[SE1] + Answers[SE2] < min_value:\n",
    "                            min_value = Answers[SE1] + Answers[SE2]\n",
    "                    Answers[SE] = min_value\n",
    "                    Founded = True\n",
    "                else:\n",
    "                    Founded = False\n",
    "        if Founded:\n",
    "            Stacks.pop()\n",
    "    Answer = Answers[SE]\n",
    "    print( Answers)\n",
    "    print('--'*10)\n",
    "    print( Indexes)\n",
    "    return Answer\n",
    "\n"
   ]
  },
  {
   "cell_type": "code",
   "execution_count": 144,
   "metadata": {
    "tags": []
   },
   "outputs": [
    {
     "output_type": "stream",
     "name": "stdout",
     "text": "3\n"
    }
   ],
   "source": [
    "print( getEff([5,1,3,3,3],1))\n",
    "# print( getEff2([5,1,3,3,3],1))\n",
    "# print( getEff([1,4,2,4,4],14))\n",
    "# print( getEff([3,5,4,5,1,1,1],2))"
   ]
  },
  {
   "cell_type": "code",
   "execution_count": 179,
   "metadata": {
    "tags": []
   },
   "outputs": [
    {
     "output_type": "stream",
     "name": "stdout",
     "text": ". . . . . . . . . . . . . . . . . . . . . . . . . . . . . . . . . . . . . . . . . . . . . . . . . . . . . . . . . . . . . . . . . . . . . . . . . . . . . . . . . . . . . . . . . . [89, 81, 91, 58, 74, 74, 60, 70, 20, 52, 3, 4, 20, 73, 21, 91, 89, 53, 94, 67, 26, 39, 100, 45, 41, 74, 55, 61, 74, 73, 21, 63] 1\n"
    }
   ],
   "source": [
    "for _ in range(100):\n",
    "    N = randint(1, 40)\n",
    "    Relative = [randint(1, 100) for _ in range(N)]\n",
    "    K =randint(1, 100)\n",
    "    K = 1\n",
    "    if getEff( Relative, K) != getEff2( Relative, K):\n",
    "        print( Relative, K)\n",
    "        break\n",
    "    else:\n",
    "        print('.', end=' ')"
   ]
  },
  {
   "cell_type": "code",
   "execution_count": 180,
   "metadata": {
    "tags": []
   },
   "outputs": [
    {
     "output_type": "stream",
     "name": "stdout",
     "text": "[89, 81, 91, 58, 74, 74, 60, 70, 20, 52, 3, 4, 20, 73, 21, 91, 89, 53, 94, 67, 26, 39, 100, 45, 41, 74, 55, 61, 74, 73, 21, 63] 32\n"
    }
   ],
   "source": [
    "print( Relative, len( Relative))"
   ]
  },
  {
   "cell_type": "code",
   "execution_count": 189,
   "metadata": {
    "tags": []
   },
   "outputs": [
    {
     "output_type": "stream",
     "name": "stdout",
     "text": "(0, 15) (15, 32)\n12 28 18\n12 27 18\n12 26 18\n11 28 18\n11 27 18\n11 26 18\n10 28 18\n10 27 18\n10 26 18\n9 28 18\n9 27 18\n9 26 18\n5 28 17\n5 27 17\n5 26 17\n{(0, 5): 1, (5, 12): 1, (0, 12): 2, (12, 15): 1, (5, 11): 1, (0, 11): 2, (11, 15): 1, (5, 10): 1, (0, 10): 2, (10, 15): 1, (5, 9): 1, (0, 9): 2, (9, 15): 1, (5, 15): 2, (0, 15): 3, (15, 28): 1, (28, 32): 1, (15, 27): 1, (27, 32): 1, (15, 26): 1, (26, 32): 1, (15, 32): 2, (0, 32): 5}\n--------------------\n{(0, 32): [15], (0, 15): [12, 11, 10, 9, 5], (0, 12): [5], (0, 11): [5], (0, 10): [5], (0, 9): [5], (5, 15): [12, 11, 10, 9], (15, 32): [28, 27, 26]}\n5\n"
    }
   ],
   "source": [
    "print( getEffP( Relative,K))"
   ]
  },
  {
   "cell_type": "code",
   "execution_count": 192,
   "metadata": {},
   "outputs": [
    {
     "output_type": "execute_result",
     "data": {
      "text/plain": "20"
     },
     "metadata": {},
     "execution_count": 192
    }
   ],
   "source": [
    "Relative[15]\n",
    "Relative[12]"
   ]
  },
  {
   "cell_type": "code",
   "execution_count": 190,
   "metadata": {
    "tags": []
   },
   "outputs": [
    {
     "output_type": "stream",
     "name": "stdout",
     "text": "[[89, 81, 91, 58, 74], [74, 60, 70, 20, 52, 3, 4], [20, 73, 21, 91, 89, 53, 94, 67, 26, 39, 100, 45, 41, 74, 55, 61], [74, 73, 21, 63]]\n4\n"
    }
   ],
   "source": [
    "print( getEff2P( Relative,K))\n"
   ]
  },
  {
   "cell_type": "code",
   "execution_count": 185,
   "metadata": {
    "tags": []
   },
   "outputs": [
    {
     "output_type": "stream",
     "name": "stdout",
     "text": "14 0 14\n12 0 12\n10 0 10\n9 0 9\n9 0 9\n9 0 9\n8 2 10\n8 2 10\n8 2 10\n8 2 10\n8 2 10\n8 2 10\n8 2 10\n8 2 10\n8 2 10\n6 2 8\n4 2 6\n4 4 8\n4 6 10\n2 6 8\n2 6 8\n2 6 8\n2 6 8\n2 8 10\n2 8 10\n2 8 10\n0 9 9\n0 10 10\n0 10 10\n0 12 12\n0 12 12\n0 14 14\n"
    }
   ],
   "source": [
    "printFight(Relative)"
   ]
  },
  {
   "cell_type": "code",
   "execution_count": null,
   "metadata": {},
   "outputs": [],
   "source": [
    "i"
   ]
  }
 ]
}