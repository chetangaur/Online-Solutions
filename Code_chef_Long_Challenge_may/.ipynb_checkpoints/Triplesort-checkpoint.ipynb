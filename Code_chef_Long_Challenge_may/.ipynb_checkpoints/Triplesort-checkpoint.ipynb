{
 "cells": [
  {
   "cell_type": "code",
   "execution_count": 1,
   "metadata": {},
   "outputs": [],
   "source": [
    "import random"
   ]
  },
  {
   "cell_type": "code",
   "execution_count": 2,
   "metadata": {},
   "outputs": [],
   "source": [
    "def perm( array):\n",
    "    length = len( array)\n",
    "    for i in range(length):\n",
    "        replace = random.randrange(i, length)\n",
    "        array[i], array[replace] = (array[replace],array[i])\n",
    "    return array\n",
    "        \n",
    "        "
   ]
  },
  {
   "cell_type": "code",
   "execution_count": 11,
   "metadata": {},
   "outputs": [
    {
     "data": {
      "text/plain": [
       "True"
      ]
     },
     "execution_count": 11,
     "metadata": {},
     "output_type": "execute_result"
    }
   ],
   "source": [
    "(not 0) and (not 0)"
   ]
  },
  {
   "cell_type": "code",
   "execution_count": 19,
   "metadata": {},
   "outputs": [],
   "source": [
    "def Solver( array, K):\n",
    "    start = K\n",
    "    Sorted_arr = sorted( array)\n",
    "    Correct_index = {}\n",
    "    for index, value in enumerate( Sorted_arr):\n",
    "        Correct_index[ value] = index\n",
    "    Backward = []\n",
    "    for index, value in enumerate( array):\n",
    "        if Correct_index[value] - index < 0 :\n",
    "            Backward.append( ( index, value))\n",
    "    ABC = ''\n",
    "    while K and Backward[1:]:\n",
    "        K -=1 \n",
    "        Last = Backward[-1]\n",
    "        First = Backward[0]\n",
    "        Position = Correct_index[ Backward[-1][1]]\n",
    "        Forward = array[Position]\n",
    "        array[Position], array[ First[0]], array[ Last[0]] = Last[1], Forward, First[0]\n",
    "        ABC += str(Position) + ' ' + str( First[0]) + ' ' + str( Last[0]) + '\\n'\n",
    "        if Correct_index[Forward] - First[0] < 0:\n",
    "            continue\n",
    "        else:\n",
    "            Backward = Backward[1:]\n",
    "    \n",
    "    if K  :\n",
    "        Forward = []\n",
    "        for index, value in enumerate( array):\n",
    "            if Correct_index[value] - index > 0:\n",
    "                Forward.append( (index, value))\n",
    "            if len( Forward) != 2:\n",
    "                return '', -1\n",
    "        Last = Backward[-1]\n",
    "        First = Forward[1]\n",
    "        Position = Correct_index[ Backward[1]]\n",
    "        F_Value = array[Position]\n",
    "        array[Position], array[First[0]], array[Last[0]] = Last[1], F_Value, First[0]\n",
    "        ABC += str(Position) + ' ' +str( First[0]) + ' ' + str( Last[0]) + '\\n'\n",
    "        return ABC, start - K - 1\n",
    "        \n",
    "    else:\n",
    "        return '', -1\n",
    "        \n",
    "        \n",
    "         "
   ]
  },
  {
   "cell_type": "code",
   "execution_count": 126,
   "metadata": {},
   "outputs": [],
   "source": [
    "perm_arr = [5,6,7,1,3,4,2]"
   ]
  },
  {
   "cell_type": "code",
   "execution_count": 1,
   "metadata": {},
   "outputs": [],
   "source": [
    "n = 2*(10**5)"
   ]
  },
  {
   "cell_type": "code",
   "execution_count": 13,
   "metadata": {},
   "outputs": [],
   "source": [
    "arr = [i for i in range(1,n)]"
   ]
  },
  {
   "cell_type": "code",
   "execution_count": 10,
   "metadata": {},
   "outputs": [],
   "source": [
    "arr = perm(arr)"
   ]
  },
  {
   "cell_type": "code",
   "execution_count": 11,
   "metadata": {},
   "outputs": [],
   "source": [
    "sort = sorted(arr, )"
   ]
  },
  {
   "cell_type": "code",
   "execution_count": 14,
   "metadata": {},
   "outputs": [
    {
     "data": {
      "text/plain": [
       "True"
      ]
     },
     "execution_count": 14,
     "metadata": {},
     "output_type": "execute_result"
    }
   ],
   "source": [
    "sort == arr"
   ]
  },
  {
   "cell_type": "code",
   "execution_count": 15,
   "metadata": {},
   "outputs": [],
   "source": [
    "eg = [3,2,4,1]"
   ]
  },
  {
   "cell_type": "code",
   "execution_count": 20,
   "metadata": {},
   "outputs": [],
   "source": [
    "ans, steps = Solver( eg, 4)"
   ]
  },
  {
   "cell_type": "code",
   "execution_count": 21,
   "metadata": {},
   "outputs": [
    {
     "data": {
      "text/plain": [
       "''"
      ]
     },
     "execution_count": 21,
     "metadata": {},
     "output_type": "execute_result"
    }
   ],
   "source": [
    "ans\n"
   ]
  },
  {
   "cell_type": "code",
   "execution_count": null,
   "metadata": {},
   "outputs": [],
   "source": []
  }
 ],
 "metadata": {
  "kernelspec": {
   "display_name": "Python 3",
   "language": "python",
   "name": "python3"
  },
  "language_info": {
   "codemirror_mode": {
    "name": "ipython",
    "version": 3
   },
   "file_extension": ".py",
   "mimetype": "text/x-python",
   "name": "python",
   "nbconvert_exporter": "python",
   "pygments_lexer": "ipython3",
   "version": "3.7.4"
  }
 },
 "nbformat": 4,
 "nbformat_minor": 2
}
