{
 "cells": [
  {
   "cell_type": "code",
   "execution_count": 1,
   "metadata": {},
   "outputs": [],
   "source": [
    "import random"
   ]
  },
  {
   "cell_type": "code",
   "execution_count": 2,
   "metadata": {},
   "outputs": [],
   "source": [
    "def perm( array):\n",
    "    length = len( array)\n",
    "    for i in range(length):\n",
    "        replace = random.randrange(i, length)\n",
    "        array[i], array[replace] = (array[replace],array[i])\n",
    "    return array\n",
    "        \n",
    "        "
   ]
  },
  {
   "cell_type": "code",
   "execution_count": 117,
   "metadata": {},
   "outputs": [],
   "source": [
    "def Solver( array):\n",
    "    Correct_index = {}\n",
    "    Backward_indexes = []\n",
    "    Sort_arr = sorted(array)\n",
    "    steps = 0\n",
    "    Changes = []\n",
    "    for index, value in enumerate( Sort_arr):\n",
    "        Correct_index[value] = index\n",
    "    for index, value in enumerate( array):\n",
    "        if Correct_index[value] - index < 0:\n",
    "            Backward_indexes.append( index)\n",
    "    while Backward_indexes[1:]:\n",
    "        steps += 1\n",
    "        First = Backward_indexes[0]\n",
    "        Last = Backward_indexes[-1]\n",
    "        Replace_index = Correct_index[array[Last]]\n",
    "        print('Array = ', array, 'Replace = ',Replace_index, First, Last)\n",
    "        Changes.append( [Replace_index, First, Last ])\n",
    "        Change = ( array[Last], array[Replace_index], array[First])\n",
    "        array[ Replace_index], array[First], array[Last] = Change\n",
    "        print( 'Array = ', array, Backward_indexes, end = '\\n')\n",
    "        if Correct_index[ array[First]] - First < 0 :\n",
    "            continue\n",
    "        Backward_indexes = Backward_indexes[1:]\n",
    "    Forward_index = []\n",
    "    f = 0\n",
    "    for index, value in enumerate( array):\n",
    "        if Correct_index[value] - index > 0 :\n",
    "            f += 1\n",
    "            Forward_index.append(index)\n",
    "    if f != 2 :\n",
    "        print('Not Possible')\n",
    "        return -1, []\n",
    "    Changes.append( [Forward_index[0], Forward_index[1], Backward_indexes[0]] )\n",
    "    Change = ( array[ Backward_indexes[0]], array[Forward_index[0]], array[Forward_index[1]])\n",
    "    array[Forward_index[0]], array[Forward_index[1]], array[Backward_indexes[0]] = Change\n",
    "    steps += 1\n",
    "    return steps, Changes\n",
    "        "
   ]
  },
  {
   "cell_type": "code",
   "execution_count": 126,
   "metadata": {},
   "outputs": [],
   "source": [
    "perm_arr = [5,6,7,1,3,4,2]"
   ]
  },
  {
   "cell_type": "code",
   "execution_count": 129,
   "metadata": {},
   "outputs": [],
   "source": [
    "arr = [i for i in range(1,8)]"
   ]
  },
  {
   "cell_type": "code",
   "execution_count": 135,
   "metadata": {},
   "outputs": [],
   "source": [
    "perm_arr = perm(arr)"
   ]
  },
  {
   "cell_type": "code",
   "execution_count": 136,
   "metadata": {},
   "outputs": [
    {
     "data": {
      "text/plain": [
       "[7, 5, 2, 6, 3, 4, 1]"
      ]
     },
     "execution_count": 136,
     "metadata": {},
     "output_type": "execute_result"
    }
   ],
   "source": [
    "perm_arr"
   ]
  },
  {
   "cell_type": "code",
   "execution_count": 137,
   "metadata": {
    "scrolled": true
   },
   "outputs": [
    {
     "name": "stdout",
     "output_type": "stream",
     "text": [
      "Array =  [7, 5, 2, 6, 3, 4, 1] Replace =  0 2 6\n",
      "Array =  [1, 5, 7, 6, 3, 4, 2] [2, 4, 5, 6]\n",
      "Array =  [1, 5, 7, 6, 3, 4, 2] Replace =  1 4 6\n",
      "Array =  [1, 2, 7, 6, 5, 4, 3] [4, 5, 6]\n",
      "Array =  [1, 2, 7, 6, 5, 4, 3] Replace =  2 5 6\n",
      "Array =  [1, 2, 3, 6, 5, 7, 4] [5, 6]\n"
     ]
    }
   ],
   "source": [
    "count, steps = Solver( perm_arr)"
   ]
  },
  {
   "cell_type": "code",
   "execution_count": 138,
   "metadata": {
    "scrolled": true
   },
   "outputs": [
    {
     "data": {
      "text/plain": [
       "4"
      ]
     },
     "execution_count": 138,
     "metadata": {},
     "output_type": "execute_result"
    }
   ],
   "source": [
    "count"
   ]
  },
  {
   "cell_type": "code",
   "execution_count": 140,
   "metadata": {},
   "outputs": [
    {
     "data": {
      "text/plain": [
       "[[0, 2, 6], [1, 4, 6], [2, 5, 6], [3, 5, 6]]"
      ]
     },
     "execution_count": 140,
     "metadata": {},
     "output_type": "execute_result"
    }
   ],
   "source": [
    "steps"
   ]
  },
  {
   "cell_type": "code",
   "execution_count": null,
   "metadata": {},
   "outputs": [],
   "source": []
  },
  {
   "cell_type": "code",
   "execution_count": null,
   "metadata": {},
   "outputs": [],
   "source": []
  }
 ],
 "metadata": {
  "kernelspec": {
   "display_name": "Python 3",
   "language": "python",
   "name": "python3"
  },
  "language_info": {
   "codemirror_mode": {
    "name": "ipython",
    "version": 3
   },
   "file_extension": ".py",
   "mimetype": "text/x-python",
   "name": "python",
   "nbconvert_exporter": "python",
   "pygments_lexer": "ipython3",
   "version": "3.7.4"
  }
 },
 "nbformat": 4,
 "nbformat_minor": 2
}
